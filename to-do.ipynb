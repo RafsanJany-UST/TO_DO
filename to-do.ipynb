{
 "cells": [
  {
   "cell_type": "markdown",
   "metadata": {},
   "source": [
    "\n",
    "\n",
    "\n",
    "\n",
    "<font size = '6'>\n",
    "Task:\n",
    "\n",
    "<ul>\n",
    "    <li><font color = '##003957'>EEG<br>\n",
    "        https://www.repository.cam.ac.uk/items/b7817912-50b5-423b-882e-978fb39a49df</font>\n",
    "    <li><font color = '#2ecc71'>KINZ: Need Old Code for plotting</font> \n",
    "    <li><font color = 'white'>DOCS Completion</font> \n",
    "    <li><font color = '#FF5733'>Tanjila Mam</font> \n",
    "    <li><font color = '#FFC300'>Research of UST</font> \n",
    "    <li><font color = '#2ecc71'>IEEE Access paper</font> \n",
    "    <li><font color = '#FF5733'>Signal Model XAi</font> <br>\n",
    "        <font size='3'>https://github.com/JHoelli/Awesome-Time-Series-Explainability?tab=readme-ov-file<br>\n",
    "        https://www.nature.com/articles/s41597-023-02767-y#MOESM1<br>\n",
    "        https://springernature.figshare.com/articles/dataset/Post-processed_excel-files_with_gait_kinematics_and_EMG_of_50_adults_with_stroke/24192495?backTo=%2Fcollections%2FA_full-body_motion_capture_gait_dataset_of_138_able-bodied_adults_across_the_life_span_and_50_stroke_survivors%2F6503791&file=42450084\n",
    "        https://github.com/LizSloot/Readin_MatlabStruct_toPython<br>\n",
    "        https://springernature.figshare.com/collections/A_full-body_motion_capture_gait_dataset_of_138_able-bodied_adults_across_the_life_span_and_50_stroke_survivors/6503791/1<br>\n",
    "        https://github.com/akhilvaid/HeartBEiT<br></font>\n",
    "    <li><font color = '#DAF7A6'>Whasington</font> \n",
    "    <li><font color = '#FFC300'>Retina</font> \n",
    "    <li><font color = '#FF5733'>Under Grade Thesis Topic</font> \n",
    "</ul>\n",
    "\n",
    "</font>\n",
    "\n",
    "\n",
    "importence Color:\n",
    "\n",
    "<ul>\n",
    "    <li><font color = '#C70039'>Extreme High</font> \n",
    "    <li><font color = '#FF5733'>1st Tire High</font> \n",
    "    <li><font color = '#FFC300'>Moderate</font> \n",
    "    <li><font color = '#DAF7A6'>Low</font> \n",
    "    <li><font color = '#2ecc71'>Done</font>  \n",
    "    <li><font color = '#003957'>Death</font>  \n",
    "    <li>ON progress\n",
    "</ul>\n",
    "\n",
    "\n"
   ]
  },
  {
   "cell_type": "code",
   "execution_count": null,
   "metadata": {
    "trusted": true
   },
   "outputs": [],
   "source": []
  }
 ],
 "metadata": {
  "kaggle": {
   "accelerator": "none",
   "dataSources": [],
   "dockerImageVersionId": 31040,
   "isGpuEnabled": false,
   "isInternetEnabled": true,
   "language": "python",
   "sourceType": "notebook"
  },
  "kernelspec": {
   "display_name": "Python 3",
   "language": "python",
   "name": "python3"
  },
  "language_info": {
   "codemirror_mode": {
    "name": "ipython",
    "version": 3
   },
   "file_extension": ".py",
   "mimetype": "text/x-python",
   "name": "python",
   "nbconvert_exporter": "python",
   "pygments_lexer": "ipython3",
   "version": "3.11.11"
  }
 },
 "nbformat": 4,
 "nbformat_minor": 4
}
